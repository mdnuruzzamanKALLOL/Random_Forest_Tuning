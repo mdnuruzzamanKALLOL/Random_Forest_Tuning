{
 "cells": [
  {
   "cell_type": "code",
   "execution_count": 1,
   "metadata": {
    "id": "jbJKFHr-eONc"
   },
   "outputs": [],
   "source": [
    "# loading libraries\n",
    "import pandas as pd\n",
    "import seaborn as sns\n",
    "import numpy as np\n",
    "from matplotlib import pyplot as plt"
   ]
  },
  {
   "cell_type": "code",
   "execution_count": 2,
   "metadata": {
    "colab": {
     "base_uri": "https://localhost:8080/"
    },
    "id": "K3nOBIvEfVFj",
    "outputId": "a668eef6-364d-472f-d280-686bfb3c0416"
   },
   "outputs": [],
   "source": [
    "# from google.colab import drive\n",
    "# drive.mount('/content/drive')"
   ]
  },
  {
   "cell_type": "code",
   "execution_count": 2,
   "metadata": {
    "id": "g9GCspvSeONm"
   },
   "outputs": [],
   "source": [
    "# loading dataset\n",
    "df = pd.read_csv('Heart Disease.csv')"
   ]
  },
  {
   "cell_type": "code",
   "execution_count": 3,
   "metadata": {
    "colab": {
     "base_uri": "https://localhost:8080/",
     "height": 270
    },
    "id": "E1YFaZSeeONo",
    "outputId": "cb994135-1dd9-49b4-cca2-9885e552860d"
   },
   "outputs": [
    {
     "data": {
      "text/html": [
       "<div>\n",
       "<style scoped>\n",
       "    .dataframe tbody tr th:only-of-type {\n",
       "        vertical-align: middle;\n",
       "    }\n",
       "\n",
       "    .dataframe tbody tr th {\n",
       "        vertical-align: top;\n",
       "    }\n",
       "\n",
       "    .dataframe thead th {\n",
       "        text-align: right;\n",
       "    }\n",
       "</style>\n",
       "<table border=\"1\" class=\"dataframe\">\n",
       "  <thead>\n",
       "    <tr style=\"text-align: right;\">\n",
       "      <th></th>\n",
       "      <th>HeartDisease</th>\n",
       "      <th>BMI</th>\n",
       "      <th>Smoking</th>\n",
       "      <th>AlcoholDrinking</th>\n",
       "      <th>Stroke</th>\n",
       "      <th>PhysicalHealth</th>\n",
       "      <th>MentalHealth</th>\n",
       "      <th>DiffWalking</th>\n",
       "      <th>Sex</th>\n",
       "      <th>AgeCategory</th>\n",
       "      <th>Race</th>\n",
       "      <th>Diabetic</th>\n",
       "      <th>PhysicalActivity</th>\n",
       "      <th>GenHealth</th>\n",
       "      <th>SleepTime</th>\n",
       "      <th>Asthma</th>\n",
       "      <th>KidneyDisease</th>\n",
       "      <th>SkinCancer</th>\n",
       "    </tr>\n",
       "  </thead>\n",
       "  <tbody>\n",
       "    <tr>\n",
       "      <th>0</th>\n",
       "      <td>No</td>\n",
       "      <td>16.60</td>\n",
       "      <td>Yes</td>\n",
       "      <td>No</td>\n",
       "      <td>No</td>\n",
       "      <td>3.0</td>\n",
       "      <td>30.0</td>\n",
       "      <td>No</td>\n",
       "      <td>Female</td>\n",
       "      <td>55-59</td>\n",
       "      <td>White</td>\n",
       "      <td>Yes</td>\n",
       "      <td>Yes</td>\n",
       "      <td>Very good</td>\n",
       "      <td>5.0</td>\n",
       "      <td>Yes</td>\n",
       "      <td>No</td>\n",
       "      <td>Yes</td>\n",
       "    </tr>\n",
       "    <tr>\n",
       "      <th>1</th>\n",
       "      <td>No</td>\n",
       "      <td>20.34</td>\n",
       "      <td>No</td>\n",
       "      <td>No</td>\n",
       "      <td>Yes</td>\n",
       "      <td>0.0</td>\n",
       "      <td>0.0</td>\n",
       "      <td>No</td>\n",
       "      <td>Female</td>\n",
       "      <td>80 or older</td>\n",
       "      <td>White</td>\n",
       "      <td>No</td>\n",
       "      <td>Yes</td>\n",
       "      <td>Very good</td>\n",
       "      <td>7.0</td>\n",
       "      <td>No</td>\n",
       "      <td>No</td>\n",
       "      <td>No</td>\n",
       "    </tr>\n",
       "    <tr>\n",
       "      <th>2</th>\n",
       "      <td>No</td>\n",
       "      <td>26.58</td>\n",
       "      <td>Yes</td>\n",
       "      <td>No</td>\n",
       "      <td>No</td>\n",
       "      <td>20.0</td>\n",
       "      <td>30.0</td>\n",
       "      <td>No</td>\n",
       "      <td>Male</td>\n",
       "      <td>65-69</td>\n",
       "      <td>White</td>\n",
       "      <td>Yes</td>\n",
       "      <td>Yes</td>\n",
       "      <td>Fair</td>\n",
       "      <td>8.0</td>\n",
       "      <td>Yes</td>\n",
       "      <td>No</td>\n",
       "      <td>No</td>\n",
       "    </tr>\n",
       "    <tr>\n",
       "      <th>3</th>\n",
       "      <td>No</td>\n",
       "      <td>24.21</td>\n",
       "      <td>No</td>\n",
       "      <td>No</td>\n",
       "      <td>No</td>\n",
       "      <td>0.0</td>\n",
       "      <td>0.0</td>\n",
       "      <td>No</td>\n",
       "      <td>Female</td>\n",
       "      <td>75-79</td>\n",
       "      <td>White</td>\n",
       "      <td>No</td>\n",
       "      <td>No</td>\n",
       "      <td>Good</td>\n",
       "      <td>6.0</td>\n",
       "      <td>No</td>\n",
       "      <td>No</td>\n",
       "      <td>Yes</td>\n",
       "    </tr>\n",
       "    <tr>\n",
       "      <th>4</th>\n",
       "      <td>No</td>\n",
       "      <td>23.71</td>\n",
       "      <td>No</td>\n",
       "      <td>No</td>\n",
       "      <td>No</td>\n",
       "      <td>28.0</td>\n",
       "      <td>0.0</td>\n",
       "      <td>Yes</td>\n",
       "      <td>Female</td>\n",
       "      <td>40-44</td>\n",
       "      <td>White</td>\n",
       "      <td>No</td>\n",
       "      <td>Yes</td>\n",
       "      <td>Very good</td>\n",
       "      <td>8.0</td>\n",
       "      <td>No</td>\n",
       "      <td>No</td>\n",
       "      <td>No</td>\n",
       "    </tr>\n",
       "  </tbody>\n",
       "</table>\n",
       "</div>"
      ],
      "text/plain": [
       "  HeartDisease    BMI Smoking AlcoholDrinking Stroke  PhysicalHealth  \\\n",
       "0           No  16.60     Yes              No     No             3.0   \n",
       "1           No  20.34      No              No    Yes             0.0   \n",
       "2           No  26.58     Yes              No     No            20.0   \n",
       "3           No  24.21      No              No     No             0.0   \n",
       "4           No  23.71      No              No     No            28.0   \n",
       "\n",
       "   MentalHealth DiffWalking     Sex  AgeCategory   Race Diabetic  \\\n",
       "0          30.0          No  Female        55-59  White      Yes   \n",
       "1           0.0          No  Female  80 or older  White       No   \n",
       "2          30.0          No    Male        65-69  White      Yes   \n",
       "3           0.0          No  Female        75-79  White       No   \n",
       "4           0.0         Yes  Female        40-44  White       No   \n",
       "\n",
       "  PhysicalActivity  GenHealth  SleepTime Asthma KidneyDisease SkinCancer  \n",
       "0              Yes  Very good        5.0    Yes            No        Yes  \n",
       "1              Yes  Very good        7.0     No            No         No  \n",
       "2              Yes       Fair        8.0    Yes            No         No  \n",
       "3               No       Good        6.0     No            No        Yes  \n",
       "4              Yes  Very good        8.0     No            No         No  "
      ]
     },
     "execution_count": 3,
     "metadata": {},
     "output_type": "execute_result"
    }
   ],
   "source": [
    "df.head()"
   ]
  },
  {
   "cell_type": "code",
   "execution_count": 4,
   "metadata": {
    "id": "Vpx4YIb2eONq"
   },
   "outputs": [],
   "source": [
    "from sklearn.preprocessing import LabelEncoder\n",
    "le = LabelEncoder()"
   ]
  },
  {
   "cell_type": "code",
   "execution_count": 5,
   "metadata": {
    "id": "4BkjHyj5eONs"
   },
   "outputs": [],
   "source": [
    "from pandas.core.dtypes.common import is_numeric_dtype\n",
    "for column in df.columns:\n",
    "    if is_numeric_dtype(df[column]):\n",
    "        continue\n",
    "    df[column] = le.fit_transform(df[column])"
   ]
  },
  {
   "cell_type": "code",
   "execution_count": 6,
   "metadata": {
    "colab": {
     "base_uri": "https://localhost:8080/",
     "height": 270
    },
    "id": "SfpsKreCeONt",
    "outputId": "09e940d6-8d20-461e-9320-3b549f3595e1"
   },
   "outputs": [
    {
     "data": {
      "text/html": [
       "<div>\n",
       "<style scoped>\n",
       "    .dataframe tbody tr th:only-of-type {\n",
       "        vertical-align: middle;\n",
       "    }\n",
       "\n",
       "    .dataframe tbody tr th {\n",
       "        vertical-align: top;\n",
       "    }\n",
       "\n",
       "    .dataframe thead th {\n",
       "        text-align: right;\n",
       "    }\n",
       "</style>\n",
       "<table border=\"1\" class=\"dataframe\">\n",
       "  <thead>\n",
       "    <tr style=\"text-align: right;\">\n",
       "      <th></th>\n",
       "      <th>HeartDisease</th>\n",
       "      <th>BMI</th>\n",
       "      <th>Smoking</th>\n",
       "      <th>AlcoholDrinking</th>\n",
       "      <th>Stroke</th>\n",
       "      <th>PhysicalHealth</th>\n",
       "      <th>MentalHealth</th>\n",
       "      <th>DiffWalking</th>\n",
       "      <th>Sex</th>\n",
       "      <th>AgeCategory</th>\n",
       "      <th>Race</th>\n",
       "      <th>Diabetic</th>\n",
       "      <th>PhysicalActivity</th>\n",
       "      <th>GenHealth</th>\n",
       "      <th>SleepTime</th>\n",
       "      <th>Asthma</th>\n",
       "      <th>KidneyDisease</th>\n",
       "      <th>SkinCancer</th>\n",
       "    </tr>\n",
       "  </thead>\n",
       "  <tbody>\n",
       "    <tr>\n",
       "      <th>0</th>\n",
       "      <td>0</td>\n",
       "      <td>16.60</td>\n",
       "      <td>1</td>\n",
       "      <td>0</td>\n",
       "      <td>0</td>\n",
       "      <td>3.0</td>\n",
       "      <td>30.0</td>\n",
       "      <td>0</td>\n",
       "      <td>0</td>\n",
       "      <td>7</td>\n",
       "      <td>5</td>\n",
       "      <td>2</td>\n",
       "      <td>1</td>\n",
       "      <td>4</td>\n",
       "      <td>5.0</td>\n",
       "      <td>1</td>\n",
       "      <td>0</td>\n",
       "      <td>1</td>\n",
       "    </tr>\n",
       "    <tr>\n",
       "      <th>1</th>\n",
       "      <td>0</td>\n",
       "      <td>20.34</td>\n",
       "      <td>0</td>\n",
       "      <td>0</td>\n",
       "      <td>1</td>\n",
       "      <td>0.0</td>\n",
       "      <td>0.0</td>\n",
       "      <td>0</td>\n",
       "      <td>0</td>\n",
       "      <td>12</td>\n",
       "      <td>5</td>\n",
       "      <td>0</td>\n",
       "      <td>1</td>\n",
       "      <td>4</td>\n",
       "      <td>7.0</td>\n",
       "      <td>0</td>\n",
       "      <td>0</td>\n",
       "      <td>0</td>\n",
       "    </tr>\n",
       "    <tr>\n",
       "      <th>2</th>\n",
       "      <td>0</td>\n",
       "      <td>26.58</td>\n",
       "      <td>1</td>\n",
       "      <td>0</td>\n",
       "      <td>0</td>\n",
       "      <td>20.0</td>\n",
       "      <td>30.0</td>\n",
       "      <td>0</td>\n",
       "      <td>1</td>\n",
       "      <td>9</td>\n",
       "      <td>5</td>\n",
       "      <td>2</td>\n",
       "      <td>1</td>\n",
       "      <td>1</td>\n",
       "      <td>8.0</td>\n",
       "      <td>1</td>\n",
       "      <td>0</td>\n",
       "      <td>0</td>\n",
       "    </tr>\n",
       "    <tr>\n",
       "      <th>3</th>\n",
       "      <td>0</td>\n",
       "      <td>24.21</td>\n",
       "      <td>0</td>\n",
       "      <td>0</td>\n",
       "      <td>0</td>\n",
       "      <td>0.0</td>\n",
       "      <td>0.0</td>\n",
       "      <td>0</td>\n",
       "      <td>0</td>\n",
       "      <td>11</td>\n",
       "      <td>5</td>\n",
       "      <td>0</td>\n",
       "      <td>0</td>\n",
       "      <td>2</td>\n",
       "      <td>6.0</td>\n",
       "      <td>0</td>\n",
       "      <td>0</td>\n",
       "      <td>1</td>\n",
       "    </tr>\n",
       "    <tr>\n",
       "      <th>4</th>\n",
       "      <td>0</td>\n",
       "      <td>23.71</td>\n",
       "      <td>0</td>\n",
       "      <td>0</td>\n",
       "      <td>0</td>\n",
       "      <td>28.0</td>\n",
       "      <td>0.0</td>\n",
       "      <td>1</td>\n",
       "      <td>0</td>\n",
       "      <td>4</td>\n",
       "      <td>5</td>\n",
       "      <td>0</td>\n",
       "      <td>1</td>\n",
       "      <td>4</td>\n",
       "      <td>8.0</td>\n",
       "      <td>0</td>\n",
       "      <td>0</td>\n",
       "      <td>0</td>\n",
       "    </tr>\n",
       "  </tbody>\n",
       "</table>\n",
       "</div>"
      ],
      "text/plain": [
       "   HeartDisease    BMI  Smoking  AlcoholDrinking  Stroke  PhysicalHealth  \\\n",
       "0             0  16.60        1                0       0             3.0   \n",
       "1             0  20.34        0                0       1             0.0   \n",
       "2             0  26.58        1                0       0            20.0   \n",
       "3             0  24.21        0                0       0             0.0   \n",
       "4             0  23.71        0                0       0            28.0   \n",
       "\n",
       "   MentalHealth  DiffWalking  Sex  AgeCategory  Race  Diabetic  \\\n",
       "0          30.0            0    0            7     5         2   \n",
       "1           0.0            0    0           12     5         0   \n",
       "2          30.0            0    1            9     5         2   \n",
       "3           0.0            0    0           11     5         0   \n",
       "4           0.0            1    0            4     5         0   \n",
       "\n",
       "   PhysicalActivity  GenHealth  SleepTime  Asthma  KidneyDisease  SkinCancer  \n",
       "0                 1          4        5.0       1              0           1  \n",
       "1                 1          4        7.0       0              0           0  \n",
       "2                 1          1        8.0       1              0           0  \n",
       "3                 0          2        6.0       0              0           1  \n",
       "4                 1          4        8.0       0              0           0  "
      ]
     },
     "execution_count": 6,
     "metadata": {},
     "output_type": "execute_result"
    }
   ],
   "source": [
    "df.head()"
   ]
  },
  {
   "cell_type": "code",
   "execution_count": 7,
   "metadata": {
    "id": "y21orUGjeONv"
   },
   "outputs": [],
   "source": [
    "# separate values\n",
    "x = df.drop('HeartDisease',axis=1)\n",
    "y = df.HeartDisease"
   ]
  },
  {
   "cell_type": "code",
   "execution_count": 8,
   "metadata": {
    "colab": {
     "base_uri": "https://localhost:8080/",
     "height": 270
    },
    "id": "pvHv1O1ieONw",
    "outputId": "830cebe9-13b5-490f-8a9f-b57fbc45b22e"
   },
   "outputs": [
    {
     "data": {
      "text/html": [
       "<div>\n",
       "<style scoped>\n",
       "    .dataframe tbody tr th:only-of-type {\n",
       "        vertical-align: middle;\n",
       "    }\n",
       "\n",
       "    .dataframe tbody tr th {\n",
       "        vertical-align: top;\n",
       "    }\n",
       "\n",
       "    .dataframe thead th {\n",
       "        text-align: right;\n",
       "    }\n",
       "</style>\n",
       "<table border=\"1\" class=\"dataframe\">\n",
       "  <thead>\n",
       "    <tr style=\"text-align: right;\">\n",
       "      <th></th>\n",
       "      <th>BMI</th>\n",
       "      <th>Smoking</th>\n",
       "      <th>AlcoholDrinking</th>\n",
       "      <th>Stroke</th>\n",
       "      <th>PhysicalHealth</th>\n",
       "      <th>MentalHealth</th>\n",
       "      <th>DiffWalking</th>\n",
       "      <th>Sex</th>\n",
       "      <th>AgeCategory</th>\n",
       "      <th>Race</th>\n",
       "      <th>Diabetic</th>\n",
       "      <th>PhysicalActivity</th>\n",
       "      <th>GenHealth</th>\n",
       "      <th>SleepTime</th>\n",
       "      <th>Asthma</th>\n",
       "      <th>KidneyDisease</th>\n",
       "      <th>SkinCancer</th>\n",
       "    </tr>\n",
       "  </thead>\n",
       "  <tbody>\n",
       "    <tr>\n",
       "      <th>0</th>\n",
       "      <td>16.60</td>\n",
       "      <td>1</td>\n",
       "      <td>0</td>\n",
       "      <td>0</td>\n",
       "      <td>3.0</td>\n",
       "      <td>30.0</td>\n",
       "      <td>0</td>\n",
       "      <td>0</td>\n",
       "      <td>7</td>\n",
       "      <td>5</td>\n",
       "      <td>2</td>\n",
       "      <td>1</td>\n",
       "      <td>4</td>\n",
       "      <td>5.0</td>\n",
       "      <td>1</td>\n",
       "      <td>0</td>\n",
       "      <td>1</td>\n",
       "    </tr>\n",
       "    <tr>\n",
       "      <th>1</th>\n",
       "      <td>20.34</td>\n",
       "      <td>0</td>\n",
       "      <td>0</td>\n",
       "      <td>1</td>\n",
       "      <td>0.0</td>\n",
       "      <td>0.0</td>\n",
       "      <td>0</td>\n",
       "      <td>0</td>\n",
       "      <td>12</td>\n",
       "      <td>5</td>\n",
       "      <td>0</td>\n",
       "      <td>1</td>\n",
       "      <td>4</td>\n",
       "      <td>7.0</td>\n",
       "      <td>0</td>\n",
       "      <td>0</td>\n",
       "      <td>0</td>\n",
       "    </tr>\n",
       "    <tr>\n",
       "      <th>2</th>\n",
       "      <td>26.58</td>\n",
       "      <td>1</td>\n",
       "      <td>0</td>\n",
       "      <td>0</td>\n",
       "      <td>20.0</td>\n",
       "      <td>30.0</td>\n",
       "      <td>0</td>\n",
       "      <td>1</td>\n",
       "      <td>9</td>\n",
       "      <td>5</td>\n",
       "      <td>2</td>\n",
       "      <td>1</td>\n",
       "      <td>1</td>\n",
       "      <td>8.0</td>\n",
       "      <td>1</td>\n",
       "      <td>0</td>\n",
       "      <td>0</td>\n",
       "    </tr>\n",
       "    <tr>\n",
       "      <th>3</th>\n",
       "      <td>24.21</td>\n",
       "      <td>0</td>\n",
       "      <td>0</td>\n",
       "      <td>0</td>\n",
       "      <td>0.0</td>\n",
       "      <td>0.0</td>\n",
       "      <td>0</td>\n",
       "      <td>0</td>\n",
       "      <td>11</td>\n",
       "      <td>5</td>\n",
       "      <td>0</td>\n",
       "      <td>0</td>\n",
       "      <td>2</td>\n",
       "      <td>6.0</td>\n",
       "      <td>0</td>\n",
       "      <td>0</td>\n",
       "      <td>1</td>\n",
       "    </tr>\n",
       "    <tr>\n",
       "      <th>4</th>\n",
       "      <td>23.71</td>\n",
       "      <td>0</td>\n",
       "      <td>0</td>\n",
       "      <td>0</td>\n",
       "      <td>28.0</td>\n",
       "      <td>0.0</td>\n",
       "      <td>1</td>\n",
       "      <td>0</td>\n",
       "      <td>4</td>\n",
       "      <td>5</td>\n",
       "      <td>0</td>\n",
       "      <td>1</td>\n",
       "      <td>4</td>\n",
       "      <td>8.0</td>\n",
       "      <td>0</td>\n",
       "      <td>0</td>\n",
       "      <td>0</td>\n",
       "    </tr>\n",
       "  </tbody>\n",
       "</table>\n",
       "</div>"
      ],
      "text/plain": [
       "     BMI  Smoking  AlcoholDrinking  Stroke  PhysicalHealth  MentalHealth  \\\n",
       "0  16.60        1                0       0             3.0          30.0   \n",
       "1  20.34        0                0       1             0.0           0.0   \n",
       "2  26.58        1                0       0            20.0          30.0   \n",
       "3  24.21        0                0       0             0.0           0.0   \n",
       "4  23.71        0                0       0            28.0           0.0   \n",
       "\n",
       "   DiffWalking  Sex  AgeCategory  Race  Diabetic  PhysicalActivity  GenHealth  \\\n",
       "0            0    0            7     5         2                 1          4   \n",
       "1            0    0           12     5         0                 1          4   \n",
       "2            0    1            9     5         2                 1          1   \n",
       "3            0    0           11     5         0                 0          2   \n",
       "4            1    0            4     5         0                 1          4   \n",
       "\n",
       "   SleepTime  Asthma  KidneyDisease  SkinCancer  \n",
       "0        5.0       1              0           1  \n",
       "1        7.0       0              0           0  \n",
       "2        8.0       1              0           0  \n",
       "3        6.0       0              0           1  \n",
       "4        8.0       0              0           0  "
      ]
     },
     "execution_count": 8,
     "metadata": {},
     "output_type": "execute_result"
    }
   ],
   "source": [
    "x.head()"
   ]
  },
  {
   "cell_type": "code",
   "execution_count": 9,
   "metadata": {
    "colab": {
     "base_uri": "https://localhost:8080/"
    },
    "id": "7MlKVyZVeONy",
    "outputId": "761699cd-b99a-40e7-b583-ec46f979768d"
   },
   "outputs": [
    {
     "data": {
      "text/plain": [
       "0    0\n",
       "1    0\n",
       "2    0\n",
       "3    0\n",
       "4    0\n",
       "Name: HeartDisease, dtype: int32"
      ]
     },
     "execution_count": 9,
     "metadata": {},
     "output_type": "execute_result"
    }
   ],
   "source": [
    "y.head()"
   ]
  },
  {
   "cell_type": "code",
   "execution_count": 10,
   "metadata": {
    "id": "2Nv2847aeONz"
   },
   "outputs": [],
   "source": [
    "from sklearn.model_selection import train_test_split\n",
    "xtrain,xtest,ytrain,ytest = train_test_split(x,y,test_size=.3,random_state=42)"
   ]
  },
  {
   "cell_type": "code",
   "execution_count": 11,
   "metadata": {
    "colab": {
     "base_uri": "https://localhost:8080/"
    },
    "id": "OCmw2JuPeON1",
    "outputId": "5dc0a86c-4785-47ab-ea88-41fda748893b"
   },
   "outputs": [
    {
     "name": "stdout",
     "output_type": "stream",
     "text": [
      "<class 'pandas.core.frame.DataFrame'>\n",
      "Int64Index: 223856 entries, 303145 to 121958\n",
      "Data columns (total 17 columns):\n",
      " #   Column            Non-Null Count   Dtype  \n",
      "---  ------            --------------   -----  \n",
      " 0   BMI               223856 non-null  float64\n",
      " 1   Smoking           223856 non-null  int32  \n",
      " 2   AlcoholDrinking   223856 non-null  int32  \n",
      " 3   Stroke            223856 non-null  int32  \n",
      " 4   PhysicalHealth    223856 non-null  float64\n",
      " 5   MentalHealth      223856 non-null  float64\n",
      " 6   DiffWalking       223856 non-null  int32  \n",
      " 7   Sex               223856 non-null  int32  \n",
      " 8   AgeCategory       223856 non-null  int32  \n",
      " 9   Race              223856 non-null  int32  \n",
      " 10  Diabetic          223856 non-null  int32  \n",
      " 11  PhysicalActivity  223856 non-null  int32  \n",
      " 12  GenHealth         223856 non-null  int32  \n",
      " 13  SleepTime         223856 non-null  float64\n",
      " 14  Asthma            223856 non-null  int32  \n",
      " 15  KidneyDisease     223856 non-null  int32  \n",
      " 16  SkinCancer        223856 non-null  int32  \n",
      "dtypes: float64(4), int32(13)\n",
      "memory usage: 19.6 MB\n"
     ]
    }
   ],
   "source": [
    "xtrain.info()"
   ]
  },
  {
   "cell_type": "code",
   "execution_count": 12,
   "metadata": {
    "id": "ySvyMk4jeON2"
   },
   "outputs": [],
   "source": [
    "from sklearn.tree import DecisionTreeClassifier\n",
    "dtc = DecisionTreeClassifier()"
   ]
  },
  {
   "cell_type": "code",
   "execution_count": 14,
   "metadata": {
    "colab": {
     "base_uri": "https://localhost:8080/"
    },
    "id": "dRMXcXVBeON3",
    "outputId": "e13e33d2-d299-44d1-ab00-9241aa39187b"
   },
   "outputs": [
    {
     "data": {
      "text/plain": [
       "DecisionTreeClassifier(ccp_alpha=0.0, class_weight=None, criterion='gini',\n",
       "                       max_depth=None, max_features=None, max_leaf_nodes=None,\n",
       "                       min_impurity_decrease=0.0, min_impurity_split=None,\n",
       "                       min_samples_leaf=1, min_samples_split=2,\n",
       "                       min_weight_fraction_leaf=0.0, presort='deprecated',\n",
       "                       random_state=None, splitter='best')"
      ]
     },
     "execution_count": 14,
     "metadata": {},
     "output_type": "execute_result"
    }
   ],
   "source": [
    "dtc.fit(xtrain,ytrain)"
   ]
  },
  {
   "cell_type": "code",
   "execution_count": 15,
   "metadata": {
    "colab": {
     "base_uri": "https://localhost:8080/"
    },
    "id": "wvunyWdVeON4",
    "outputId": "d44659ff-564a-4609-f293-ce1fc3199ce9"
   },
   "outputs": [
    {
     "data": {
      "text/plain": [
       "array([0, 0, 0, ..., 0, 0, 0])"
      ]
     },
     "execution_count": 15,
     "metadata": {},
     "output_type": "execute_result"
    }
   ],
   "source": [
    "pred = dtc.predict(xtest)\n",
    "pred"
   ]
  },
  {
   "cell_type": "code",
   "execution_count": 16,
   "metadata": {
    "colab": {
     "base_uri": "https://localhost:8080/"
    },
    "id": "mH4tBqJueON5",
    "outputId": "da8a8ba9-50e5-41f3-9667-b17f11884eb0"
   },
   "outputs": [
    {
     "data": {
      "text/plain": [
       "271884    0\n",
       "270361    0\n",
       "219060    0\n",
       "24010     0\n",
       "181930    0\n",
       "Name: HeartDisease, dtype: int32"
      ]
     },
     "execution_count": 16,
     "metadata": {},
     "output_type": "execute_result"
    }
   ],
   "source": [
    "ytest.head()"
   ]
  },
  {
   "cell_type": "code",
   "execution_count": 17,
   "metadata": {
    "colab": {
     "base_uri": "https://localhost:8080/"
    },
    "id": "BLGlb_yIeON5",
    "outputId": "5855082d-d4b8-4423-c253-cafdc6b56cf5"
   },
   "outputs": [
    {
     "data": {
      "text/plain": [
       "0.8638405653592387"
      ]
     },
     "execution_count": 17,
     "metadata": {},
     "output_type": "execute_result"
    }
   ],
   "source": [
    "# testing accuracy\n",
    "accu_dt = dtc.score(xtest,ytest)\n",
    "accu_dt"
   ]
  },
  {
   "cell_type": "markdown",
   "metadata": {
    "id": "-_0fg1CMeON6"
   },
   "source": [
    "### Random Forest"
   ]
  },
  {
   "cell_type": "code",
   "execution_count": 13,
   "metadata": {
    "id": "2O7-Fod3eON9"
   },
   "outputs": [],
   "source": [
    "from sklearn.ensemble import RandomForestClassifier\n",
    "rfc = RandomForestClassifier()"
   ]
  },
  {
   "cell_type": "code",
   "execution_count": 19,
   "metadata": {
    "colab": {
     "base_uri": "https://localhost:8080/"
    },
    "id": "VU0CV3CWeON_",
    "outputId": "87ad5ce9-b291-4f38-e59b-14d152fb0cbb"
   },
   "outputs": [
    {
     "data": {
      "text/plain": [
       "RandomForestClassifier(bootstrap=True, ccp_alpha=0.0, class_weight=None,\n",
       "                       criterion='gini', max_depth=None, max_features='auto',\n",
       "                       max_leaf_nodes=None, max_samples=None,\n",
       "                       min_impurity_decrease=0.0, min_impurity_split=None,\n",
       "                       min_samples_leaf=1, min_samples_split=2,\n",
       "                       min_weight_fraction_leaf=0.0, n_estimators=100,\n",
       "                       n_jobs=None, oob_score=False, random_state=None,\n",
       "                       verbose=0, warm_start=False)"
      ]
     },
     "execution_count": 19,
     "metadata": {},
     "output_type": "execute_result"
    }
   ],
   "source": [
    "rfc.fit(xtrain,ytrain)"
   ]
  },
  {
   "cell_type": "code",
   "execution_count": 20,
   "metadata": {
    "colab": {
     "base_uri": "https://localhost:8080/"
    },
    "id": "jz3yNPNHeOOA",
    "outputId": "db1e6963-620c-4ecc-9ca4-988976588907"
   },
   "outputs": [
    {
     "data": {
      "text/plain": [
       "0.9047519778192393"
      ]
     },
     "execution_count": 20,
     "metadata": {},
     "output_type": "execute_result"
    }
   ],
   "source": [
    "# testing accuracy\n",
    "accu_rf = rfc.score(xtest,ytest)\n",
    "accu_rf"
   ]
  },
  {
   "cell_type": "markdown",
   "metadata": {
    "id": "nvs-kO2geOOC"
   },
   "source": [
    "## Tuning"
   ]
  },
  {
   "cell_type": "markdown",
   "metadata": {
    "id": "OxKJGQ8ieOOD"
   },
   "source": [
    "### Randomized Search CV"
   ]
  },
  {
   "cell_type": "code",
   "execution_count": 21,
   "metadata": {
    "id": "UoIFZDBEeOOD"
   },
   "outputs": [],
   "source": [
    "from sklearn.model_selection import RandomizedSearchCV"
   ]
  },
  {
   "cell_type": "code",
   "execution_count": 15,
   "metadata": {
    "id": "ImJ89v5zeOOE"
   },
   "outputs": [],
   "source": [
    "#Assign Parameters\n",
    "n_estimators = [int(x) for x in np.linspace(start=15,stop=300,num=40)]\n",
    "criterion = ['gini', 'entropy']\n",
    "max_features = ['sqrt', 'log2']\n",
    "max_depth = np.random.randint(1,10,20)\n",
    "min_samples_split = np.random.randint(2,10,15)\n",
    "min_samples_leaf = np.random.randint(1,10,15)\n",
    "parameters = {\n",
    "    'n_estimators'  : n_estimators,\n",
    "    'criterion' : criterion,\n",
    "    'max_features': max_features,\n",
    "    'max_depth' : max_depth,\n",
    "    'min_samples_split' : min_samples_split,\n",
    "    'min_samples_leaf': min_samples_leaf\n",
    "}"
   ]
  },
  {
   "cell_type": "code",
   "execution_count": 23,
   "metadata": {
    "colab": {
     "base_uri": "https://localhost:8080/"
    },
    "id": "BqLL6DjAeOOF",
    "outputId": "92a86fd4-3e7e-4063-a276-f65818285172"
   },
   "outputs": [
    {
     "data": {
      "text/plain": [
       "{'n_estimators': [15,\n",
       "  22,\n",
       "  29,\n",
       "  36,\n",
       "  44,\n",
       "  51,\n",
       "  58,\n",
       "  66,\n",
       "  73,\n",
       "  80,\n",
       "  88,\n",
       "  95,\n",
       "  102,\n",
       "  110,\n",
       "  117,\n",
       "  124,\n",
       "  131,\n",
       "  139,\n",
       "  146,\n",
       "  153,\n",
       "  161,\n",
       "  168,\n",
       "  175,\n",
       "  183,\n",
       "  190,\n",
       "  197,\n",
       "  205,\n",
       "  212,\n",
       "  219,\n",
       "  226,\n",
       "  234,\n",
       "  241,\n",
       "  248,\n",
       "  256,\n",
       "  263,\n",
       "  270,\n",
       "  278,\n",
       "  285,\n",
       "  292,\n",
       "  300],\n",
       " 'criterion': ['gini', 'entropy'],\n",
       " 'max_features': ['sqrt', 'log2'],\n",
       " 'max_depth': array([4, 2, 4, 7, 5, 2, 3, 7, 2, 6, 1, 7, 9, 1, 5, 8, 4, 7, 8, 5]),\n",
       " 'min_samples_split': array([2, 5, 5, 6, 3, 6, 5, 4, 6, 9, 4, 9, 9, 7, 8]),\n",
       " 'min_samples_leaf': array([1, 6, 5, 1, 5, 2, 8, 3, 2, 2, 5, 5, 4, 5, 5])}"
      ]
     },
     "execution_count": 23,
     "metadata": {},
     "output_type": "execute_result"
    }
   ],
   "source": [
    "parameters"
   ]
  },
  {
   "cell_type": "code",
   "execution_count": 24,
   "metadata": {
    "id": "u5Xo-E8wjUbE"
   },
   "outputs": [],
   "source": [
    "random_forest = RandomForestClassifier()"
   ]
  },
  {
   "cell_type": "code",
   "execution_count": 25,
   "metadata": {
    "id": "e1KtgxWZeOOF"
   },
   "outputs": [],
   "source": [
    "rs = RandomizedSearchCV(random_forest, parameters, n_iter = 300,cv = 3)          #cv = cross validation"
   ]
  },
  {
   "cell_type": "code",
   "execution_count": 26,
   "metadata": {
    "id": "ArJPN_lkeOOG"
   },
   "outputs": [
    {
     "data": {
      "text/plain": [
       "RandomizedSearchCV(cv=3, error_score=nan,\n",
       "                   estimator=RandomForestClassifier(bootstrap=True,\n",
       "                                                    ccp_alpha=0.0,\n",
       "                                                    class_weight=None,\n",
       "                                                    criterion='gini',\n",
       "                                                    max_depth=None,\n",
       "                                                    max_features='auto',\n",
       "                                                    max_leaf_nodes=None,\n",
       "                                                    max_samples=None,\n",
       "                                                    min_impurity_decrease=0.0,\n",
       "                                                    min_impurity_split=None,\n",
       "                                                    min_samples_leaf=1,\n",
       "                                                    min_samples_split=2,\n",
       "                                                    min_weight_fraction_leaf=0.0,\n",
       "                                                    n_estimators=100,\n",
       "                                                    n_jobs...\n",
       "                                        'max_features': ['sqrt', 'log2'],\n",
       "                                        'min_samples_leaf': array([1, 6, 5, 1, 5, 2, 8, 3, 2, 2, 5, 5, 4, 5, 5]),\n",
       "                                        'min_samples_split': array([2, 5, 5, 6, 3, 6, 5, 4, 6, 9, 4, 9, 9, 7, 8]),\n",
       "                                        'n_estimators': [15, 22, 29, 36, 44, 51,\n",
       "                                                         58, 66, 73, 80, 88, 95,\n",
       "                                                         102, 110, 117, 124,\n",
       "                                                         131, 139, 146, 153,\n",
       "                                                         161, 168, 175, 183,\n",
       "                                                         190, 197, 205, 212,\n",
       "                                                         219, 226, ...]},\n",
       "                   pre_dispatch='2*n_jobs', random_state=None, refit=True,\n",
       "                   return_train_score=False, scoring=None, verbose=0)"
      ]
     },
     "execution_count": 26,
     "metadata": {},
     "output_type": "execute_result"
    }
   ],
   "source": [
    "rs.fit(xtrain,ytrain)"
   ]
  },
  {
   "cell_type": "code",
   "execution_count": 27,
   "metadata": {
    "id": "QCbEHHcCeOOG"
   },
   "outputs": [
    {
     "data": {
      "text/html": [
       "<div>\n",
       "<style scoped>\n",
       "    .dataframe tbody tr th:only-of-type {\n",
       "        vertical-align: middle;\n",
       "    }\n",
       "\n",
       "    .dataframe tbody tr th {\n",
       "        vertical-align: top;\n",
       "    }\n",
       "\n",
       "    .dataframe thead th {\n",
       "        text-align: right;\n",
       "    }\n",
       "</style>\n",
       "<table border=\"1\" class=\"dataframe\">\n",
       "  <thead>\n",
       "    <tr style=\"text-align: right;\">\n",
       "      <th></th>\n",
       "      <th>mean_fit_time</th>\n",
       "      <th>std_fit_time</th>\n",
       "      <th>mean_score_time</th>\n",
       "      <th>std_score_time</th>\n",
       "      <th>param_n_estimators</th>\n",
       "      <th>param_min_samples_split</th>\n",
       "      <th>param_min_samples_leaf</th>\n",
       "      <th>param_max_features</th>\n",
       "      <th>param_max_depth</th>\n",
       "      <th>param_criterion</th>\n",
       "      <th>params</th>\n",
       "      <th>split0_test_score</th>\n",
       "      <th>split1_test_score</th>\n",
       "      <th>split2_test_score</th>\n",
       "      <th>mean_test_score</th>\n",
       "      <th>std_test_score</th>\n",
       "      <th>rank_test_score</th>\n",
       "    </tr>\n",
       "  </thead>\n",
       "  <tbody>\n",
       "    <tr>\n",
       "      <th>0</th>\n",
       "      <td>5.430365</td>\n",
       "      <td>0.052867</td>\n",
       "      <td>0.691399</td>\n",
       "      <td>0.001661</td>\n",
       "      <td>146</td>\n",
       "      <td>3</td>\n",
       "      <td>8</td>\n",
       "      <td>sqrt</td>\n",
       "      <td>1</td>\n",
       "      <td>gini</td>\n",
       "      <td>{'n_estimators': 146, 'min_samples_split': 3, ...</td>\n",
       "      <td>0.914754</td>\n",
       "      <td>0.914754</td>\n",
       "      <td>0.914752</td>\n",
       "      <td>0.914753</td>\n",
       "      <td>5.385501e-07</td>\n",
       "      <td>222</td>\n",
       "    </tr>\n",
       "    <tr>\n",
       "      <th>1</th>\n",
       "      <td>10.061610</td>\n",
       "      <td>0.056102</td>\n",
       "      <td>0.853971</td>\n",
       "      <td>0.009705</td>\n",
       "      <td>131</td>\n",
       "      <td>8</td>\n",
       "      <td>2</td>\n",
       "      <td>log2</td>\n",
       "      <td>4</td>\n",
       "      <td>entropy</td>\n",
       "      <td>{'n_estimators': 131, 'min_samples_split': 8, ...</td>\n",
       "      <td>0.914754</td>\n",
       "      <td>0.914794</td>\n",
       "      <td>0.914793</td>\n",
       "      <td>0.914780</td>\n",
       "      <td>1.868913e-05</td>\n",
       "      <td>208</td>\n",
       "    </tr>\n",
       "    <tr>\n",
       "      <th>2</th>\n",
       "      <td>1.378290</td>\n",
       "      <td>0.014977</td>\n",
       "      <td>0.190531</td>\n",
       "      <td>0.004594</td>\n",
       "      <td>36</td>\n",
       "      <td>9</td>\n",
       "      <td>5</td>\n",
       "      <td>sqrt</td>\n",
       "      <td>1</td>\n",
       "      <td>gini</td>\n",
       "      <td>{'n_estimators': 36, 'min_samples_split': 9, '...</td>\n",
       "      <td>0.914754</td>\n",
       "      <td>0.914754</td>\n",
       "      <td>0.914752</td>\n",
       "      <td>0.914753</td>\n",
       "      <td>5.385501e-07</td>\n",
       "      <td>222</td>\n",
       "    </tr>\n",
       "    <tr>\n",
       "      <th>3</th>\n",
       "      <td>7.822788</td>\n",
       "      <td>0.043505</td>\n",
       "      <td>0.629860</td>\n",
       "      <td>0.006899</td>\n",
       "      <td>88</td>\n",
       "      <td>4</td>\n",
       "      <td>5</td>\n",
       "      <td>sqrt</td>\n",
       "      <td>5</td>\n",
       "      <td>entropy</td>\n",
       "      <td>{'n_estimators': 88, 'min_samples_split': 4, '...</td>\n",
       "      <td>0.915022</td>\n",
       "      <td>0.915115</td>\n",
       "      <td>0.914994</td>\n",
       "      <td>0.915044</td>\n",
       "      <td>5.207322e-05</td>\n",
       "      <td>154</td>\n",
       "    </tr>\n",
       "    <tr>\n",
       "      <th>4</th>\n",
       "      <td>17.967162</td>\n",
       "      <td>0.690604</td>\n",
       "      <td>1.392113</td>\n",
       "      <td>0.044654</td>\n",
       "      <td>183</td>\n",
       "      <td>8</td>\n",
       "      <td>8</td>\n",
       "      <td>log2</td>\n",
       "      <td>5</td>\n",
       "      <td>entropy</td>\n",
       "      <td>{'n_estimators': 183, 'min_samples_split': 8, ...</td>\n",
       "      <td>0.915035</td>\n",
       "      <td>0.915129</td>\n",
       "      <td>0.914900</td>\n",
       "      <td>0.915021</td>\n",
       "      <td>9.398096e-05</td>\n",
       "      <td>165</td>\n",
       "    </tr>\n",
       "    <tr>\n",
       "      <th>...</th>\n",
       "      <td>...</td>\n",
       "      <td>...</td>\n",
       "      <td>...</td>\n",
       "      <td>...</td>\n",
       "      <td>...</td>\n",
       "      <td>...</td>\n",
       "      <td>...</td>\n",
       "      <td>...</td>\n",
       "      <td>...</td>\n",
       "      <td>...</td>\n",
       "      <td>...</td>\n",
       "      <td>...</td>\n",
       "      <td>...</td>\n",
       "      <td>...</td>\n",
       "      <td>...</td>\n",
       "      <td>...</td>\n",
       "      <td>...</td>\n",
       "    </tr>\n",
       "    <tr>\n",
       "      <th>295</th>\n",
       "      <td>11.151847</td>\n",
       "      <td>0.080100</td>\n",
       "      <td>0.829919</td>\n",
       "      <td>0.001306</td>\n",
       "      <td>95</td>\n",
       "      <td>9</td>\n",
       "      <td>5</td>\n",
       "      <td>log2</td>\n",
       "      <td>7</td>\n",
       "      <td>gini</td>\n",
       "      <td>{'n_estimators': 95, 'min_samples_split': 9, '...</td>\n",
       "      <td>0.915853</td>\n",
       "      <td>0.915692</td>\n",
       "      <td>0.915490</td>\n",
       "      <td>0.915678</td>\n",
       "      <td>1.485021e-04</td>\n",
       "      <td>58</td>\n",
       "    </tr>\n",
       "    <tr>\n",
       "      <th>296</th>\n",
       "      <td>8.531872</td>\n",
       "      <td>0.025751</td>\n",
       "      <td>0.730784</td>\n",
       "      <td>0.013566</td>\n",
       "      <td>110</td>\n",
       "      <td>3</td>\n",
       "      <td>5</td>\n",
       "      <td>sqrt</td>\n",
       "      <td>4</td>\n",
       "      <td>gini</td>\n",
       "      <td>{'n_estimators': 110, 'min_samples_split': 3, ...</td>\n",
       "      <td>0.914847</td>\n",
       "      <td>0.914914</td>\n",
       "      <td>0.914779</td>\n",
       "      <td>0.914847</td>\n",
       "      <td>5.517795e-05</td>\n",
       "      <td>181</td>\n",
       "    </tr>\n",
       "    <tr>\n",
       "      <th>297</th>\n",
       "      <td>19.071294</td>\n",
       "      <td>0.057096</td>\n",
       "      <td>1.487293</td>\n",
       "      <td>0.000017</td>\n",
       "      <td>205</td>\n",
       "      <td>9</td>\n",
       "      <td>2</td>\n",
       "      <td>log2</td>\n",
       "      <td>5</td>\n",
       "      <td>entropy</td>\n",
       "      <td>{'n_estimators': 205, 'min_samples_split': 9, ...</td>\n",
       "      <td>0.915048</td>\n",
       "      <td>0.915062</td>\n",
       "      <td>0.914967</td>\n",
       "      <td>0.915026</td>\n",
       "      <td>4.195908e-05</td>\n",
       "      <td>161</td>\n",
       "    </tr>\n",
       "    <tr>\n",
       "      <th>298</th>\n",
       "      <td>2.274742</td>\n",
       "      <td>0.030877</td>\n",
       "      <td>0.261399</td>\n",
       "      <td>0.008162</td>\n",
       "      <td>44</td>\n",
       "      <td>5</td>\n",
       "      <td>4</td>\n",
       "      <td>sqrt</td>\n",
       "      <td>2</td>\n",
       "      <td>entropy</td>\n",
       "      <td>{'n_estimators': 44, 'min_samples_split': 5, '...</td>\n",
       "      <td>0.914754</td>\n",
       "      <td>0.914754</td>\n",
       "      <td>0.914752</td>\n",
       "      <td>0.914753</td>\n",
       "      <td>5.385501e-07</td>\n",
       "      <td>222</td>\n",
       "    </tr>\n",
       "    <tr>\n",
       "      <th>299</th>\n",
       "      <td>25.763117</td>\n",
       "      <td>0.168773</td>\n",
       "      <td>1.967093</td>\n",
       "      <td>0.081768</td>\n",
       "      <td>183</td>\n",
       "      <td>5</td>\n",
       "      <td>3</td>\n",
       "      <td>log2</td>\n",
       "      <td>9</td>\n",
       "      <td>gini</td>\n",
       "      <td>{'n_estimators': 183, 'min_samples_split': 5, ...</td>\n",
       "      <td>0.916000</td>\n",
       "      <td>0.915866</td>\n",
       "      <td>0.915610</td>\n",
       "      <td>0.915825</td>\n",
       "      <td>1.616904e-04</td>\n",
       "      <td>18</td>\n",
       "    </tr>\n",
       "  </tbody>\n",
       "</table>\n",
       "<p>300 rows × 17 columns</p>\n",
       "</div>"
      ],
      "text/plain": [
       "     mean_fit_time  std_fit_time  mean_score_time  std_score_time  \\\n",
       "0         5.430365      0.052867         0.691399        0.001661   \n",
       "1        10.061610      0.056102         0.853971        0.009705   \n",
       "2         1.378290      0.014977         0.190531        0.004594   \n",
       "3         7.822788      0.043505         0.629860        0.006899   \n",
       "4        17.967162      0.690604         1.392113        0.044654   \n",
       "..             ...           ...              ...             ...   \n",
       "295      11.151847      0.080100         0.829919        0.001306   \n",
       "296       8.531872      0.025751         0.730784        0.013566   \n",
       "297      19.071294      0.057096         1.487293        0.000017   \n",
       "298       2.274742      0.030877         0.261399        0.008162   \n",
       "299      25.763117      0.168773         1.967093        0.081768   \n",
       "\n",
       "    param_n_estimators param_min_samples_split param_min_samples_leaf  \\\n",
       "0                  146                       3                      8   \n",
       "1                  131                       8                      2   \n",
       "2                   36                       9                      5   \n",
       "3                   88                       4                      5   \n",
       "4                  183                       8                      8   \n",
       "..                 ...                     ...                    ...   \n",
       "295                 95                       9                      5   \n",
       "296                110                       3                      5   \n",
       "297                205                       9                      2   \n",
       "298                 44                       5                      4   \n",
       "299                183                       5                      3   \n",
       "\n",
       "    param_max_features param_max_depth param_criterion  \\\n",
       "0                 sqrt               1            gini   \n",
       "1                 log2               4         entropy   \n",
       "2                 sqrt               1            gini   \n",
       "3                 sqrt               5         entropy   \n",
       "4                 log2               5         entropy   \n",
       "..                 ...             ...             ...   \n",
       "295               log2               7            gini   \n",
       "296               sqrt               4            gini   \n",
       "297               log2               5         entropy   \n",
       "298               sqrt               2         entropy   \n",
       "299               log2               9            gini   \n",
       "\n",
       "                                                params  split0_test_score  \\\n",
       "0    {'n_estimators': 146, 'min_samples_split': 3, ...           0.914754   \n",
       "1    {'n_estimators': 131, 'min_samples_split': 8, ...           0.914754   \n",
       "2    {'n_estimators': 36, 'min_samples_split': 9, '...           0.914754   \n",
       "3    {'n_estimators': 88, 'min_samples_split': 4, '...           0.915022   \n",
       "4    {'n_estimators': 183, 'min_samples_split': 8, ...           0.915035   \n",
       "..                                                 ...                ...   \n",
       "295  {'n_estimators': 95, 'min_samples_split': 9, '...           0.915853   \n",
       "296  {'n_estimators': 110, 'min_samples_split': 3, ...           0.914847   \n",
       "297  {'n_estimators': 205, 'min_samples_split': 9, ...           0.915048   \n",
       "298  {'n_estimators': 44, 'min_samples_split': 5, '...           0.914754   \n",
       "299  {'n_estimators': 183, 'min_samples_split': 5, ...           0.916000   \n",
       "\n",
       "     split1_test_score  split2_test_score  mean_test_score  std_test_score  \\\n",
       "0             0.914754           0.914752         0.914753    5.385501e-07   \n",
       "1             0.914794           0.914793         0.914780    1.868913e-05   \n",
       "2             0.914754           0.914752         0.914753    5.385501e-07   \n",
       "3             0.915115           0.914994         0.915044    5.207322e-05   \n",
       "4             0.915129           0.914900         0.915021    9.398096e-05   \n",
       "..                 ...                ...              ...             ...   \n",
       "295           0.915692           0.915490         0.915678    1.485021e-04   \n",
       "296           0.914914           0.914779         0.914847    5.517795e-05   \n",
       "297           0.915062           0.914967         0.915026    4.195908e-05   \n",
       "298           0.914754           0.914752         0.914753    5.385501e-07   \n",
       "299           0.915866           0.915610         0.915825    1.616904e-04   \n",
       "\n",
       "     rank_test_score  \n",
       "0                222  \n",
       "1                208  \n",
       "2                222  \n",
       "3                154  \n",
       "4                165  \n",
       "..               ...  \n",
       "295               58  \n",
       "296              181  \n",
       "297              161  \n",
       "298              222  \n",
       "299               18  \n",
       "\n",
       "[300 rows x 17 columns]"
      ]
     },
     "execution_count": 27,
     "metadata": {},
     "output_type": "execute_result"
    }
   ],
   "source": [
    "pd.DataFrame(rs.cv_results_)"
   ]
  },
  {
   "cell_type": "code",
   "execution_count": 28,
   "metadata": {
    "id": "EPxE1YdMeOOH"
   },
   "outputs": [
    {
     "data": {
      "text/plain": [
       "{'n_estimators': 248,\n",
       " 'min_samples_split': 7,\n",
       " 'min_samples_leaf': 1,\n",
       " 'max_features': 'log2',\n",
       " 'max_depth': 9,\n",
       " 'criterion': 'entropy'}"
      ]
     },
     "execution_count": 28,
     "metadata": {},
     "output_type": "execute_result"
    }
   ],
   "source": [
    "# Best parameters\n",
    "rs.best_params_"
   ]
  },
  {
   "cell_type": "code",
   "execution_count": 29,
   "metadata": {
    "id": "dGtssuTheOOG"
   },
   "outputs": [
    {
     "data": {
      "text/plain": [
       "0.9159638329719062"
      ]
     },
     "execution_count": 29,
     "metadata": {},
     "output_type": "execute_result"
    }
   ],
   "source": [
    "# Best accuracy score\n",
    "rs.best_score_"
   ]
  },
  {
   "cell_type": "code",
   "execution_count": 30,
   "metadata": {
    "id": "gQHUGUV3eOOH"
   },
   "outputs": [],
   "source": [
    "nrs = rs.best_estimator_"
   ]
  },
  {
   "cell_type": "code",
   "execution_count": 31,
   "metadata": {
    "id": "0aJLPe6xuhlq"
   },
   "outputs": [
    {
     "data": {
      "text/plain": [
       "RandomForestClassifier(bootstrap=True, ccp_alpha=0.0, class_weight=None,\n",
       "                       criterion='entropy', max_depth=9, max_features='log2',\n",
       "                       max_leaf_nodes=None, max_samples=None,\n",
       "                       min_impurity_decrease=0.0, min_impurity_split=None,\n",
       "                       min_samples_leaf=1, min_samples_split=7,\n",
       "                       min_weight_fraction_leaf=0.0, n_estimators=248,\n",
       "                       n_jobs=None, oob_score=False, random_state=None,\n",
       "                       verbose=0, warm_start=False)"
      ]
     },
     "execution_count": 31,
     "metadata": {},
     "output_type": "execute_result"
    }
   ],
   "source": [
    "nrs.fit(xtrain,ytrain)"
   ]
  },
  {
   "cell_type": "code",
   "execution_count": 32,
   "metadata": {
    "id": "1lXegNDmeOOH"
   },
   "outputs": [
    {
     "data": {
      "text/plain": [
       "0.9148729922138025"
      ]
     },
     "execution_count": 32,
     "metadata": {},
     "output_type": "execute_result"
    }
   ],
   "source": [
    "# testing accuracy\n",
    "accu_rscv = nrs.score(xtest,ytest)\n",
    "accu_rscv"
   ]
  },
  {
   "cell_type": "markdown",
   "metadata": {
    "id": "SbtyAe8ou6vI"
   },
   "source": [
    "**Grid Search CV**"
   ]
  },
  {
   "cell_type": "code",
   "execution_count": 14,
   "metadata": {
    "id": "liWF5O9yqcT3"
   },
   "outputs": [],
   "source": [
    "from sklearn.model_selection import GridSearchCV"
   ]
  },
  {
   "cell_type": "code",
   "execution_count": 16,
   "metadata": {
    "id": "vVmHbFchvLg2"
   },
   "outputs": [
    {
     "data": {
      "text/plain": [
       "{'n_estimators': [15,\n",
       "  22,\n",
       "  29,\n",
       "  36,\n",
       "  44,\n",
       "  51,\n",
       "  58,\n",
       "  66,\n",
       "  73,\n",
       "  80,\n",
       "  88,\n",
       "  95,\n",
       "  102,\n",
       "  110,\n",
       "  117,\n",
       "  124,\n",
       "  131,\n",
       "  139,\n",
       "  146,\n",
       "  153,\n",
       "  161,\n",
       "  168,\n",
       "  175,\n",
       "  183,\n",
       "  190,\n",
       "  197,\n",
       "  205,\n",
       "  212,\n",
       "  219,\n",
       "  226,\n",
       "  234,\n",
       "  241,\n",
       "  248,\n",
       "  256,\n",
       "  263,\n",
       "  270,\n",
       "  278,\n",
       "  285,\n",
       "  292,\n",
       "  300],\n",
       " 'criterion': ['gini', 'entropy'],\n",
       " 'max_features': ['sqrt', 'log2'],\n",
       " 'max_depth': array([4, 2, 5, 7, 4, 9, 3, 4, 8, 2, 5, 3, 9, 8, 7, 6, 2, 9, 7, 5]),\n",
       " 'min_samples_split': array([6, 6, 5, 8, 2, 3, 3, 2, 2, 3, 5, 6, 7, 6, 5]),\n",
       " 'min_samples_leaf': array([3, 4, 6, 3, 8, 4, 2, 8, 1, 4, 6, 9, 4, 8, 7])}"
      ]
     },
     "execution_count": 16,
     "metadata": {},
     "output_type": "execute_result"
    }
   ],
   "source": [
    "parameters"
   ]
  },
  {
   "cell_type": "code",
   "execution_count": 17,
   "metadata": {
    "id": "sECi_Zbyv11P"
   },
   "outputs": [],
   "source": [
    "clf = RandomForestClassifier()"
   ]
  },
  {
   "cell_type": "code",
   "execution_count": 18,
   "metadata": {
    "id": "zD3DqbcnwRj5"
   },
   "outputs": [],
   "source": [
    "gs = GridSearchCV(clf,parameters,cv=3,n_jobs=-1)"
   ]
  },
  {
   "cell_type": "code",
   "execution_count": null,
   "metadata": {
    "id": "Ie1kRgk0wuYs"
   },
   "outputs": [],
   "source": [
    "gs.fit(xtrain,ytrain)"
   ]
  },
  {
   "cell_type": "code",
   "execution_count": null,
   "metadata": {
    "id": "fOcY2qG1zPOu"
   },
   "outputs": [],
   "source": [
    "gs.best_score_"
   ]
  },
  {
   "cell_type": "code",
   "execution_count": null,
   "metadata": {
    "id": "bNWaglGFw2Ai"
   },
   "outputs": [],
   "source": [
    "ngs = gs.best_estimator_\n",
    "ngs"
   ]
  },
  {
   "cell_type": "code",
   "execution_count": null,
   "metadata": {
    "id": "6SVnS9HKzVL_"
   },
   "outputs": [],
   "source": [
    "ngs.fit(xtrain,ytrain)"
   ]
  },
  {
   "cell_type": "code",
   "execution_count": null,
   "metadata": {
    "id": "n9eUnAeUzYvz"
   },
   "outputs": [],
   "source": [
    "accu_gscv = ngs.score(xtest,ytest)"
   ]
  },
  {
   "cell_type": "markdown",
   "metadata": {
    "id": "M7-sWyod1nDb"
   },
   "source": [
    "<h3>Comparison</h3>"
   ]
  },
  {
   "cell_type": "code",
   "execution_count": null,
   "metadata": {
    "id": "GEm_tiHyzNzZ"
   },
   "outputs": [],
   "source": [
    "df_2 = pd.DataFrame([('Decision Tree',accu_dt),\n",
    "                     ('Random Forest',accu_rf),\n",
    "                     ('Randomized Search CV',accu_rscv),\n",
    "                     ('Grid Search CV',accu_gscv)],columns=['Methods','Accuracy'])"
   ]
  },
  {
   "cell_type": "code",
   "execution_count": null,
   "metadata": {
    "id": "dRC-LpCc4Q3w"
   },
   "outputs": [],
   "source": [
    "sns.barplot(x=\"Accuracy\", y=\"Methods\", data=df_2,\n",
    "                 palette=\"Blues_d\")"
   ]
  }
 ],
 "metadata": {
  "colab": {
   "collapsed_sections": [],
   "name": "Random Forest & Tuning.ipynb",
   "provenance": []
  },
  "kernelspec": {
   "display_name": "Python 3",
   "language": "python",
   "name": "python3"
  },
  "language_info": {
   "codemirror_mode": {
    "name": "ipython",
    "version": 3
   },
   "file_extension": ".py",
   "mimetype": "text/x-python",
   "name": "python",
   "nbconvert_exporter": "python",
   "pygments_lexer": "ipython3",
   "version": "3.7.6"
  }
 },
 "nbformat": 4,
 "nbformat_minor": 1
}
